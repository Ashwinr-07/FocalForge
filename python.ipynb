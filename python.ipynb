{
 "cells": [
  {
   "cell_type": "code",
   "execution_count": 1,
   "metadata": {},
   "outputs": [
    {
     "name": "stderr",
     "output_type": "stream",
     "text": [
      "/Users/ashwin/miniconda3/envs/py3.11.5/lib/python3.11/site-packages/tqdm/auto.py:21: TqdmWarning: IProgress not found. Please update jupyter and ipywidgets. See https://ipywidgets.readthedocs.io/en/stable/user_install.html\n",
      "  from .autonotebook import tqdm as notebook_tqdm\n"
     ]
    }
   ],
   "source": [
    "import numpy as np\n",
    "from PIL import Image\n",
    "from transformers import pipeline\n",
    "import cv2"
   ]
  },
  {
   "cell_type": "code",
   "execution_count": 40,
   "metadata": {},
   "outputs": [
    {
     "name": "stderr",
     "output_type": "stream",
     "text": [
      "Some weights of DPTForDepthEstimation were not initialized from the model checkpoint at Intel/dpt-large and are newly initialized: ['neck.fusion_stage.layers.0.residual_layer1.convolution1.bias', 'neck.fusion_stage.layers.0.residual_layer1.convolution1.weight', 'neck.fusion_stage.layers.0.residual_layer1.convolution2.bias', 'neck.fusion_stage.layers.0.residual_layer1.convolution2.weight']\n",
      "You should probably TRAIN this model on a down-stream task to be able to use it for predictions and inference.\n",
      "Could not find image processor class in the image processor config or the model config. Loading based on pattern matching with the model's feature extractor configuration. Please open a PR/issue to update `preprocessor_config.json` to use `image_processor_type` instead of `feature_extractor_type`. This warning will be removed in v4.40.\n"
     ]
    }
   ],
   "source": [
    "\n",
    "# Initialize depth estimation pipeline\n",
    "pipe = pipeline(task=\"depth-estimation\", model=\"Intel/dpt-large\")"
   ]
  },
  {
   "cell_type": "code",
   "execution_count": 112,
   "metadata": {},
   "outputs": [
    {
     "name": "stdout",
     "output_type": "stream",
     "text": [
      "Training the model:\n",
      "Epoch 1/100\n"
     ]
    },
    {
     "name": "stderr",
     "output_type": "stream",
     "text": [
      "Epoch Progress: 100%|██████████| 100/100 [00:00<00:00, 776.83it/s]\n"
     ]
    },
    {
     "name": "stdout",
     "output_type": "stream",
     "text": [
      "Avg PSNR for Epoch 1: -0.00 dB | Avg Perceptual Loss: 0.2968\n",
      "Epoch 2/100\n"
     ]
    },
    {
     "name": "stderr",
     "output_type": "stream",
     "text": [
      "Epoch Progress: 100%|██████████| 100/100 [00:00<00:00, 792.61it/s]\n"
     ]
    },
    {
     "name": "stdout",
     "output_type": "stream",
     "text": [
      "Avg PSNR for Epoch 2: 1.28 dB | Avg Perceptual Loss: 0.2919\n",
      "Epoch 3/100\n"
     ]
    },
    {
     "name": "stderr",
     "output_type": "stream",
     "text": [
      "Epoch Progress: 100%|██████████| 100/100 [00:00<00:00, 790.00it/s]\n"
     ]
    },
    {
     "name": "stdout",
     "output_type": "stream",
     "text": [
      "Avg PSNR for Epoch 3: 2.42 dB | Avg Perceptual Loss: 0.2882\n",
      "Epoch 4/100\n"
     ]
    },
    {
     "name": "stderr",
     "output_type": "stream",
     "text": [
      "Epoch Progress: 100%|██████████| 100/100 [00:00<00:00, 706.08it/s]\n"
     ]
    },
    {
     "name": "stdout",
     "output_type": "stream",
     "text": [
      "Avg PSNR for Epoch 4: 3.54 dB | Avg Perceptual Loss: 0.2850\n",
      "Epoch 5/100\n"
     ]
    },
    {
     "name": "stderr",
     "output_type": "stream",
     "text": [
      "Epoch Progress: 100%|██████████| 100/100 [00:00<00:00, 754.62it/s]\n"
     ]
    },
    {
     "name": "stdout",
     "output_type": "stream",
     "text": [
      "Avg PSNR for Epoch 5: 4.61 dB | Avg Perceptual Loss: 0.2780\n",
      "Epoch 6/100\n"
     ]
    },
    {
     "name": "stderr",
     "output_type": "stream",
     "text": [
      "Epoch Progress: 100%|██████████| 100/100 [00:00<00:00, 792.54it/s]\n"
     ]
    },
    {
     "name": "stdout",
     "output_type": "stream",
     "text": [
      "Avg PSNR for Epoch 6: 5.53 dB | Avg Perceptual Loss: 0.2762\n",
      "Epoch 7/100\n"
     ]
    },
    {
     "name": "stderr",
     "output_type": "stream",
     "text": [
      "Epoch Progress: 100%|██████████| 100/100 [00:00<00:00, 786.31it/s]\n"
     ]
    },
    {
     "name": "stdout",
     "output_type": "stream",
     "text": [
      "Avg PSNR for Epoch 7: 6.43 dB | Avg Perceptual Loss: 0.2699\n",
      "Epoch 8/100\n"
     ]
    },
    {
     "name": "stderr",
     "output_type": "stream",
     "text": [
      "Epoch Progress: 100%|██████████| 100/100 [00:00<00:00, 788.15it/s]\n"
     ]
    },
    {
     "name": "stdout",
     "output_type": "stream",
     "text": [
      "Avg PSNR for Epoch 8: 7.27 dB | Avg Perceptual Loss: 0.2577\n",
      "Epoch 9/100\n"
     ]
    },
    {
     "name": "stderr",
     "output_type": "stream",
     "text": [
      "Epoch Progress: 100%|██████████| 100/100 [00:00<00:00, 783.77it/s]\n"
     ]
    },
    {
     "name": "stdout",
     "output_type": "stream",
     "text": [
      "Avg PSNR for Epoch 9: 7.92 dB | Avg Perceptual Loss: 0.2589\n",
      "Epoch 10/100\n"
     ]
    },
    {
     "name": "stderr",
     "output_type": "stream",
     "text": [
      "Epoch Progress: 100%|██████████| 100/100 [00:00<00:00, 788.43it/s]\n"
     ]
    },
    {
     "name": "stdout",
     "output_type": "stream",
     "text": [
      "Avg PSNR for Epoch 10: 8.71 dB | Avg Perceptual Loss: 0.2495\n",
      "Epoch 11/100\n"
     ]
    },
    {
     "name": "stderr",
     "output_type": "stream",
     "text": [
      "Epoch Progress: 100%|██████████| 100/100 [00:00<00:00, 787.79it/s]\n"
     ]
    },
    {
     "name": "stdout",
     "output_type": "stream",
     "text": [
      "Avg PSNR for Epoch 11: 9.41 dB | Avg Perceptual Loss: 0.2436\n",
      "Epoch 12/100\n"
     ]
    },
    {
     "name": "stderr",
     "output_type": "stream",
     "text": [
      "Epoch Progress: 100%|██████████| 100/100 [00:00<00:00, 788.22it/s]\n"
     ]
    },
    {
     "name": "stdout",
     "output_type": "stream",
     "text": [
      "Avg PSNR for Epoch 12: 10.00 dB | Avg Perceptual Loss: 0.2373\n",
      "Epoch 13/100\n"
     ]
    },
    {
     "name": "stderr",
     "output_type": "stream",
     "text": [
      "Epoch Progress: 100%|██████████| 100/100 [00:00<00:00, 684.22it/s]\n"
     ]
    },
    {
     "name": "stdout",
     "output_type": "stream",
     "text": [
      "Avg PSNR for Epoch 13: 10.70 dB | Avg Perceptual Loss: 0.2321\n",
      "Epoch 14/100\n"
     ]
    },
    {
     "name": "stderr",
     "output_type": "stream",
     "text": [
      "Epoch Progress: 100%|██████████| 100/100 [00:00<00:00, 785.35it/s]\n"
     ]
    },
    {
     "name": "stdout",
     "output_type": "stream",
     "text": [
      "Avg PSNR for Epoch 14: 11.22 dB | Avg Perceptual Loss: 0.2274\n",
      "Epoch 15/100\n"
     ]
    },
    {
     "name": "stderr",
     "output_type": "stream",
     "text": [
      "Epoch Progress: 100%|██████████| 100/100 [00:00<00:00, 794.77it/s]\n"
     ]
    },
    {
     "name": "stdout",
     "output_type": "stream",
     "text": [
      "Avg PSNR for Epoch 15: 11.70 dB | Avg Perceptual Loss: 0.2232\n",
      "Epoch 16/100\n"
     ]
    },
    {
     "name": "stderr",
     "output_type": "stream",
     "text": [
      "Epoch Progress: 100%|██████████| 100/100 [00:00<00:00, 795.13it/s]\n"
     ]
    },
    {
     "name": "stdout",
     "output_type": "stream",
     "text": [
      "Avg PSNR for Epoch 16: 12.32 dB | Avg Perceptual Loss: 0.2254\n",
      "Epoch 17/100\n"
     ]
    },
    {
     "name": "stderr",
     "output_type": "stream",
     "text": [
      "Epoch Progress: 100%|██████████| 100/100 [00:00<00:00, 757.53it/s]\n"
     ]
    },
    {
     "name": "stdout",
     "output_type": "stream",
     "text": [
      "Avg PSNR for Epoch 17: 12.82 dB | Avg Perceptual Loss: 0.2147\n",
      "Epoch 18/100\n"
     ]
    },
    {
     "name": "stderr",
     "output_type": "stream",
     "text": [
      "Epoch Progress: 100%|██████████| 100/100 [00:00<00:00, 790.10it/s]\n"
     ]
    },
    {
     "name": "stdout",
     "output_type": "stream",
     "text": [
      "Avg PSNR for Epoch 18: 13.16 dB | Avg Perceptual Loss: 0.2115\n",
      "Epoch 19/100\n"
     ]
    },
    {
     "name": "stderr",
     "output_type": "stream",
     "text": [
      "Epoch Progress: 100%|██████████| 100/100 [00:00<00:00, 788.77it/s]\n"
     ]
    },
    {
     "name": "stdout",
     "output_type": "stream",
     "text": [
      "Avg PSNR for Epoch 19: 13.53 dB | Avg Perceptual Loss: 0.2109\n",
      "Epoch 20/100\n"
     ]
    },
    {
     "name": "stderr",
     "output_type": "stream",
     "text": [
      "Epoch Progress: 100%|██████████| 100/100 [00:00<00:00, 785.66it/s]\n"
     ]
    },
    {
     "name": "stdout",
     "output_type": "stream",
     "text": [
      "Avg PSNR for Epoch 20: 14.04 dB | Avg Perceptual Loss: 0.2081\n",
      "Epoch 21/100\n"
     ]
    },
    {
     "name": "stderr",
     "output_type": "stream",
     "text": [
      "Epoch Progress: 100%|██████████| 100/100 [00:00<00:00, 773.41it/s]\n"
     ]
    },
    {
     "name": "stdout",
     "output_type": "stream",
     "text": [
      "Avg PSNR for Epoch 21: 14.37 dB | Avg Perceptual Loss: 0.2016\n",
      "Epoch 22/100\n"
     ]
    },
    {
     "name": "stderr",
     "output_type": "stream",
     "text": [
      "Epoch Progress: 100%|██████████| 100/100 [00:00<00:00, 788.18it/s]\n"
     ]
    },
    {
     "name": "stdout",
     "output_type": "stream",
     "text": [
      "Avg PSNR for Epoch 22: 14.77 dB | Avg Perceptual Loss: 0.1995\n",
      "Epoch 23/100\n"
     ]
    },
    {
     "name": "stderr",
     "output_type": "stream",
     "text": [
      "Epoch Progress: 100%|██████████| 100/100 [00:00<00:00, 791.18it/s]\n"
     ]
    },
    {
     "name": "stdout",
     "output_type": "stream",
     "text": [
      "Avg PSNR for Epoch 23: 15.15 dB | Avg Perceptual Loss: 0.1923\n",
      "Epoch 24/100\n"
     ]
    },
    {
     "name": "stderr",
     "output_type": "stream",
     "text": [
      "Epoch Progress: 100%|██████████| 100/100 [00:00<00:00, 795.93it/s]\n"
     ]
    },
    {
     "name": "stdout",
     "output_type": "stream",
     "text": [
      "Avg PSNR for Epoch 24: 15.52 dB | Avg Perceptual Loss: 0.1888\n",
      "Epoch 25/100\n"
     ]
    },
    {
     "name": "stderr",
     "output_type": "stream",
     "text": [
      "Epoch Progress: 100%|██████████| 100/100 [00:00<00:00, 768.33it/s]\n"
     ]
    },
    {
     "name": "stdout",
     "output_type": "stream",
     "text": [
      "Avg PSNR for Epoch 25: 15.63 dB | Avg Perceptual Loss: 0.1821\n",
      "Epoch 26/100\n"
     ]
    },
    {
     "name": "stderr",
     "output_type": "stream",
     "text": [
      "Epoch Progress: 100%|██████████| 100/100 [00:00<00:00, 681.41it/s]\n"
     ]
    },
    {
     "name": "stdout",
     "output_type": "stream",
     "text": [
      "Avg PSNR for Epoch 26: 16.00 dB | Avg Perceptual Loss: 0.1807\n",
      "Epoch 27/100\n"
     ]
    },
    {
     "name": "stderr",
     "output_type": "stream",
     "text": [
      "Epoch Progress: 100%|██████████| 100/100 [00:00<00:00, 785.07it/s]\n"
     ]
    },
    {
     "name": "stdout",
     "output_type": "stream",
     "text": [
      "Avg PSNR for Epoch 27: 16.24 dB | Avg Perceptual Loss: 0.1768\n",
      "Epoch 28/100\n"
     ]
    },
    {
     "name": "stderr",
     "output_type": "stream",
     "text": [
      "Epoch Progress: 100%|██████████| 100/100 [00:00<00:00, 787.23it/s]\n"
     ]
    },
    {
     "name": "stdout",
     "output_type": "stream",
     "text": [
      "Avg PSNR for Epoch 28: 16.49 dB | Avg Perceptual Loss: 0.1777\n",
      "Epoch 29/100\n"
     ]
    },
    {
     "name": "stderr",
     "output_type": "stream",
     "text": [
      "Epoch Progress: 100%|██████████| 100/100 [00:00<00:00, 783.07it/s]\n"
     ]
    },
    {
     "name": "stdout",
     "output_type": "stream",
     "text": [
      "Avg PSNR for Epoch 29: 16.84 dB | Avg Perceptual Loss: 0.1763\n",
      "Epoch 30/100\n"
     ]
    },
    {
     "name": "stderr",
     "output_type": "stream",
     "text": [
      "Epoch Progress: 100%|██████████| 100/100 [00:00<00:00, 787.87it/s]\n"
     ]
    },
    {
     "name": "stdout",
     "output_type": "stream",
     "text": [
      "Avg PSNR for Epoch 30: 16.98 dB | Avg Perceptual Loss: 0.1722\n",
      "Epoch 31/100\n"
     ]
    },
    {
     "name": "stderr",
     "output_type": "stream",
     "text": [
      "Epoch Progress: 100%|██████████| 100/100 [00:00<00:00, 789.68it/s]\n"
     ]
    },
    {
     "name": "stdout",
     "output_type": "stream",
     "text": [
      "Avg PSNR for Epoch 31: 17.33 dB | Avg Perceptual Loss: 0.1672\n",
      "Epoch 32/100\n"
     ]
    },
    {
     "name": "stderr",
     "output_type": "stream",
     "text": [
      "Epoch Progress: 100%|██████████| 100/100 [00:00<00:00, 788.01it/s]\n"
     ]
    },
    {
     "name": "stdout",
     "output_type": "stream",
     "text": [
      "Avg PSNR for Epoch 32: 17.39 dB | Avg Perceptual Loss: 0.1617\n",
      "Epoch 33/100\n"
     ]
    },
    {
     "name": "stderr",
     "output_type": "stream",
     "text": [
      "Epoch Progress: 100%|██████████| 100/100 [00:00<00:00, 785.56it/s]\n"
     ]
    },
    {
     "name": "stdout",
     "output_type": "stream",
     "text": [
      "Avg PSNR for Epoch 33: 17.76 dB | Avg Perceptual Loss: 0.1582\n",
      "Epoch 34/100\n"
     ]
    },
    {
     "name": "stderr",
     "output_type": "stream",
     "text": [
      "Epoch Progress: 100%|██████████| 100/100 [00:00<00:00, 786.29it/s]\n"
     ]
    },
    {
     "name": "stdout",
     "output_type": "stream",
     "text": [
      "Avg PSNR for Epoch 34: 17.90 dB | Avg Perceptual Loss: 0.1587\n",
      "Epoch 35/100\n"
     ]
    },
    {
     "name": "stderr",
     "output_type": "stream",
     "text": [
      "Epoch Progress: 100%|██████████| 100/100 [00:00<00:00, 790.87it/s]\n"
     ]
    },
    {
     "name": "stdout",
     "output_type": "stream",
     "text": [
      "Avg PSNR for Epoch 35: 18.12 dB | Avg Perceptual Loss: 0.1487\n",
      "Epoch 36/100\n"
     ]
    },
    {
     "name": "stderr",
     "output_type": "stream",
     "text": [
      "Epoch Progress: 100%|██████████| 100/100 [00:00<00:00, 787.77it/s]\n"
     ]
    },
    {
     "name": "stdout",
     "output_type": "stream",
     "text": [
      "Avg PSNR for Epoch 36: 18.25 dB | Avg Perceptual Loss: 0.1489\n",
      "Epoch 37/100\n"
     ]
    },
    {
     "name": "stderr",
     "output_type": "stream",
     "text": [
      "Epoch Progress: 100%|██████████| 100/100 [00:00<00:00, 789.68it/s]\n"
     ]
    },
    {
     "name": "stdout",
     "output_type": "stream",
     "text": [
      "Avg PSNR for Epoch 37: 18.45 dB | Avg Perceptual Loss: 0.1476\n",
      "Epoch 38/100\n"
     ]
    },
    {
     "name": "stderr",
     "output_type": "stream",
     "text": [
      "Epoch Progress: 100%|██████████| 100/100 [00:00<00:00, 726.60it/s]\n"
     ]
    },
    {
     "name": "stdout",
     "output_type": "stream",
     "text": [
      "Avg PSNR for Epoch 38: 18.46 dB | Avg Perceptual Loss: 0.1423\n",
      "Epoch 39/100\n"
     ]
    },
    {
     "name": "stderr",
     "output_type": "stream",
     "text": [
      "Epoch Progress: 100%|██████████| 100/100 [00:00<00:00, 794.77it/s]\n"
     ]
    },
    {
     "name": "stdout",
     "output_type": "stream",
     "text": [
      "Avg PSNR for Epoch 39: 18.68 dB | Avg Perceptual Loss: 0.1358\n",
      "Epoch 40/100\n"
     ]
    },
    {
     "name": "stderr",
     "output_type": "stream",
     "text": [
      "Epoch Progress: 100%|██████████| 100/100 [00:00<00:00, 783.91it/s]\n"
     ]
    },
    {
     "name": "stdout",
     "output_type": "stream",
     "text": [
      "Avg PSNR for Epoch 40: 18.77 dB | Avg Perceptual Loss: 0.1403\n",
      "Epoch 41/100\n"
     ]
    },
    {
     "name": "stderr",
     "output_type": "stream",
     "text": [
      "Epoch Progress: 100%|██████████| 100/100 [00:00<00:00, 674.00it/s]\n"
     ]
    },
    {
     "name": "stdout",
     "output_type": "stream",
     "text": [
      "Avg PSNR for Epoch 41: 18.94 dB | Avg Perceptual Loss: 0.1327\n",
      "Epoch 42/100\n"
     ]
    },
    {
     "name": "stderr",
     "output_type": "stream",
     "text": [
      "Epoch Progress: 100%|██████████| 100/100 [00:00<00:00, 772.15it/s]\n"
     ]
    },
    {
     "name": "stdout",
     "output_type": "stream",
     "text": [
      "Avg PSNR for Epoch 42: 19.19 dB | Avg Perceptual Loss: 0.1357\n",
      "Epoch 43/100\n"
     ]
    },
    {
     "name": "stderr",
     "output_type": "stream",
     "text": [
      "Epoch Progress: 100%|██████████| 100/100 [00:00<00:00, 789.93it/s]\n"
     ]
    },
    {
     "name": "stdout",
     "output_type": "stream",
     "text": [
      "Avg PSNR for Epoch 43: 19.16 dB | Avg Perceptual Loss: 0.1264\n",
      "Epoch 44/100\n"
     ]
    },
    {
     "name": "stderr",
     "output_type": "stream",
     "text": [
      "Epoch Progress: 100%|██████████| 100/100 [00:00<00:00, 787.70it/s]\n"
     ]
    },
    {
     "name": "stdout",
     "output_type": "stream",
     "text": [
      "Avg PSNR for Epoch 44: 19.25 dB | Avg Perceptual Loss: 0.1264\n",
      "Epoch 45/100\n"
     ]
    },
    {
     "name": "stderr",
     "output_type": "stream",
     "text": [
      "Epoch Progress: 100%|██████████| 100/100 [00:00<00:00, 788.45it/s]\n"
     ]
    },
    {
     "name": "stdout",
     "output_type": "stream",
     "text": [
      "Avg PSNR for Epoch 45: 19.47 dB | Avg Perceptual Loss: 0.1218\n",
      "Epoch 46/100\n"
     ]
    },
    {
     "name": "stderr",
     "output_type": "stream",
     "text": [
      "Epoch Progress: 100%|██████████| 100/100 [00:00<00:00, 779.08it/s]\n"
     ]
    },
    {
     "name": "stdout",
     "output_type": "stream",
     "text": [
      "Avg PSNR for Epoch 46: 19.61 dB | Avg Perceptual Loss: 0.1171\n",
      "Epoch 47/100\n"
     ]
    },
    {
     "name": "stderr",
     "output_type": "stream",
     "text": [
      "Epoch Progress: 100%|██████████| 100/100 [00:00<00:00, 789.55it/s]\n"
     ]
    },
    {
     "name": "stdout",
     "output_type": "stream",
     "text": [
      "Avg PSNR for Epoch 47: 19.64 dB | Avg Perceptual Loss: 0.1152\n",
      "Epoch 48/100\n"
     ]
    },
    {
     "name": "stderr",
     "output_type": "stream",
     "text": [
      "Epoch Progress: 100%|██████████| 100/100 [00:00<00:00, 786.60it/s]\n"
     ]
    },
    {
     "name": "stdout",
     "output_type": "stream",
     "text": [
      "Avg PSNR for Epoch 48: 19.69 dB | Avg Perceptual Loss: 0.1218\n",
      "Epoch 49/100\n"
     ]
    },
    {
     "name": "stderr",
     "output_type": "stream",
     "text": [
      "Epoch Progress: 100%|██████████| 100/100 [00:00<00:00, 791.31it/s]\n"
     ]
    },
    {
     "name": "stdout",
     "output_type": "stream",
     "text": [
      "Avg PSNR for Epoch 49: 19.88 dB | Avg Perceptual Loss: 0.1153\n",
      "Epoch 50/100\n"
     ]
    },
    {
     "name": "stderr",
     "output_type": "stream",
     "text": [
      "Epoch Progress: 100%|██████████| 100/100 [00:00<00:00, 690.09it/s]\n"
     ]
    },
    {
     "name": "stdout",
     "output_type": "stream",
     "text": [
      "Avg PSNR for Epoch 50: 20.04 dB | Avg Perceptual Loss: 0.1163\n",
      "Epoch 51/100\n"
     ]
    },
    {
     "name": "stderr",
     "output_type": "stream",
     "text": [
      "Epoch Progress: 100%|██████████| 100/100 [00:00<00:00, 784.71it/s]\n"
     ]
    },
    {
     "name": "stdout",
     "output_type": "stream",
     "text": [
      "Avg PSNR for Epoch 51: 19.97 dB | Avg Perceptual Loss: 0.1120\n",
      "Epoch 52/100\n"
     ]
    },
    {
     "name": "stderr",
     "output_type": "stream",
     "text": [
      "Epoch Progress: 100%|██████████| 100/100 [00:00<00:00, 789.62it/s]\n"
     ]
    },
    {
     "name": "stdout",
     "output_type": "stream",
     "text": [
      "Avg PSNR for Epoch 52: 20.21 dB | Avg Perceptual Loss: 0.1044\n",
      "Epoch 53/100\n"
     ]
    },
    {
     "name": "stderr",
     "output_type": "stream",
     "text": [
      "Epoch Progress: 100%|██████████| 100/100 [00:00<00:00, 748.81it/s]\n"
     ]
    },
    {
     "name": "stdout",
     "output_type": "stream",
     "text": [
      "Avg PSNR for Epoch 53: 20.21 dB | Avg Perceptual Loss: 0.1050\n",
      "Epoch 54/100\n"
     ]
    },
    {
     "name": "stderr",
     "output_type": "stream",
     "text": [
      "Epoch Progress: 100%|██████████| 100/100 [00:00<00:00, 804.99it/s]\n"
     ]
    },
    {
     "name": "stdout",
     "output_type": "stream",
     "text": [
      "Avg PSNR for Epoch 54: 20.30 dB | Avg Perceptual Loss: 0.1022\n",
      "Epoch 55/100\n"
     ]
    },
    {
     "name": "stderr",
     "output_type": "stream",
     "text": [
      "Epoch Progress: 100%|██████████| 100/100 [00:00<00:00, 812.89it/s]\n"
     ]
    },
    {
     "name": "stdout",
     "output_type": "stream",
     "text": [
      "Avg PSNR for Epoch 55: 20.36 dB | Avg Perceptual Loss: 0.1037\n",
      "Epoch 56/100\n"
     ]
    },
    {
     "name": "stderr",
     "output_type": "stream",
     "text": [
      "Epoch Progress: 100%|██████████| 100/100 [00:00<00:00, 839.48it/s]\n"
     ]
    },
    {
     "name": "stdout",
     "output_type": "stream",
     "text": [
      "Avg PSNR for Epoch 56: 20.52 dB | Avg Perceptual Loss: 0.0978\n",
      "Epoch 57/100\n"
     ]
    },
    {
     "name": "stderr",
     "output_type": "stream",
     "text": [
      "Epoch Progress: 100%|██████████| 100/100 [00:00<00:00, 805.68it/s]\n"
     ]
    },
    {
     "name": "stdout",
     "output_type": "stream",
     "text": [
      "Avg PSNR for Epoch 57: 20.39 dB | Avg Perceptual Loss: 0.1015\n",
      "Epoch 58/100\n"
     ]
    },
    {
     "name": "stderr",
     "output_type": "stream",
     "text": [
      "Epoch Progress: 100%|██████████| 100/100 [00:00<00:00, 837.35it/s]\n"
     ]
    },
    {
     "name": "stdout",
     "output_type": "stream",
     "text": [
      "Avg PSNR for Epoch 58: 20.57 dB | Avg Perceptual Loss: 0.1008\n",
      "Epoch 59/100\n"
     ]
    },
    {
     "name": "stderr",
     "output_type": "stream",
     "text": [
      "Epoch Progress: 100%|██████████| 100/100 [00:00<00:00, 842.77it/s]\n"
     ]
    },
    {
     "name": "stdout",
     "output_type": "stream",
     "text": [
      "Avg PSNR for Epoch 59: 20.60 dB | Avg Perceptual Loss: 0.0920\n",
      "Epoch 60/100\n"
     ]
    },
    {
     "name": "stderr",
     "output_type": "stream",
     "text": [
      "Epoch Progress: 100%|██████████| 100/100 [00:00<00:00, 839.64it/s]\n"
     ]
    },
    {
     "name": "stdout",
     "output_type": "stream",
     "text": [
      "Avg PSNR for Epoch 60: 20.57 dB | Avg Perceptual Loss: 0.0874\n",
      "Epoch 61/100\n"
     ]
    },
    {
     "name": "stderr",
     "output_type": "stream",
     "text": [
      "Epoch Progress: 100%|██████████| 100/100 [00:00<00:00, 824.33it/s]\n"
     ]
    },
    {
     "name": "stdout",
     "output_type": "stream",
     "text": [
      "Avg PSNR for Epoch 61: 20.69 dB | Avg Perceptual Loss: 0.0859\n",
      "Epoch 62/100\n"
     ]
    },
    {
     "name": "stderr",
     "output_type": "stream",
     "text": [
      "Epoch Progress: 100%|██████████| 100/100 [00:00<00:00, 702.99it/s]\n"
     ]
    },
    {
     "name": "stdout",
     "output_type": "stream",
     "text": [
      "Avg PSNR for Epoch 62: 20.80 dB | Avg Perceptual Loss: 0.0914\n",
      "Epoch 63/100\n"
     ]
    },
    {
     "name": "stderr",
     "output_type": "stream",
     "text": [
      "Epoch Progress: 100%|██████████| 100/100 [00:00<00:00, 813.07it/s]\n"
     ]
    },
    {
     "name": "stdout",
     "output_type": "stream",
     "text": [
      "Avg PSNR for Epoch 63: 20.86 dB | Avg Perceptual Loss: 0.0907\n",
      "Epoch 64/100\n"
     ]
    },
    {
     "name": "stderr",
     "output_type": "stream",
     "text": [
      "Epoch Progress: 100%|██████████| 100/100 [00:00<00:00, 808.02it/s]\n"
     ]
    },
    {
     "name": "stdout",
     "output_type": "stream",
     "text": [
      "Avg PSNR for Epoch 64: 20.90 dB | Avg Perceptual Loss: 0.0867\n",
      "Epoch 65/100\n"
     ]
    },
    {
     "name": "stderr",
     "output_type": "stream",
     "text": [
      "Epoch Progress: 100%|██████████| 100/100 [00:00<00:00, 829.79it/s]\n"
     ]
    },
    {
     "name": "stdout",
     "output_type": "stream",
     "text": [
      "Avg PSNR for Epoch 65: 21.01 dB | Avg Perceptual Loss: 0.0880\n",
      "Epoch 66/100\n"
     ]
    },
    {
     "name": "stderr",
     "output_type": "stream",
     "text": [
      "Epoch Progress: 100%|██████████| 100/100 [00:00<00:00, 833.22it/s]\n"
     ]
    },
    {
     "name": "stdout",
     "output_type": "stream",
     "text": [
      "Avg PSNR for Epoch 66: 21.00 dB | Avg Perceptual Loss: 0.0782\n",
      "Epoch 67/100\n"
     ]
    },
    {
     "name": "stderr",
     "output_type": "stream",
     "text": [
      "Epoch Progress: 100%|██████████| 100/100 [00:00<00:00, 863.10it/s]\n"
     ]
    },
    {
     "name": "stdout",
     "output_type": "stream",
     "text": [
      "Avg PSNR for Epoch 67: 21.03 dB | Avg Perceptual Loss: 0.0810\n",
      "Epoch 68/100\n"
     ]
    },
    {
     "name": "stderr",
     "output_type": "stream",
     "text": [
      "Epoch Progress: 100%|██████████| 100/100 [00:00<00:00, 826.47it/s]\n"
     ]
    },
    {
     "name": "stdout",
     "output_type": "stream",
     "text": [
      "Avg PSNR for Epoch 68: 21.13 dB | Avg Perceptual Loss: 0.0817\n",
      "Epoch 69/100\n"
     ]
    },
    {
     "name": "stderr",
     "output_type": "stream",
     "text": [
      "Epoch Progress: 100%|██████████| 100/100 [00:00<00:00, 786.69it/s]\n"
     ]
    },
    {
     "name": "stdout",
     "output_type": "stream",
     "text": [
      "Avg PSNR for Epoch 69: 21.17 dB | Avg Perceptual Loss: 0.0774\n",
      "Epoch 70/100\n"
     ]
    },
    {
     "name": "stderr",
     "output_type": "stream",
     "text": [
      "Epoch Progress: 100%|██████████| 100/100 [00:00<00:00, 785.57it/s]\n"
     ]
    },
    {
     "name": "stdout",
     "output_type": "stream",
     "text": [
      "Avg PSNR for Epoch 70: 21.19 dB | Avg Perceptual Loss: 0.0766\n",
      "Epoch 71/100\n"
     ]
    },
    {
     "name": "stderr",
     "output_type": "stream",
     "text": [
      "Epoch Progress: 100%|██████████| 100/100 [00:00<00:00, 787.33it/s]\n"
     ]
    },
    {
     "name": "stdout",
     "output_type": "stream",
     "text": [
      "Avg PSNR for Epoch 71: 21.11 dB | Avg Perceptual Loss: 0.0778\n",
      "Epoch 72/100\n"
     ]
    },
    {
     "name": "stderr",
     "output_type": "stream",
     "text": [
      "Epoch Progress: 100%|██████████| 100/100 [00:00<00:00, 787.51it/s]\n"
     ]
    },
    {
     "name": "stdout",
     "output_type": "stream",
     "text": [
      "Avg PSNR for Epoch 72: 21.25 dB | Avg Perceptual Loss: 0.0768\n",
      "Epoch 73/100\n"
     ]
    },
    {
     "name": "stderr",
     "output_type": "stream",
     "text": [
      "Epoch Progress: 100%|██████████| 100/100 [00:00<00:00, 785.42it/s]\n"
     ]
    },
    {
     "name": "stdout",
     "output_type": "stream",
     "text": [
      "Avg PSNR for Epoch 73: 21.22 dB | Avg Perceptual Loss: 0.0680\n",
      "Epoch 74/100\n"
     ]
    },
    {
     "name": "stderr",
     "output_type": "stream",
     "text": [
      "Epoch Progress: 100%|██████████| 100/100 [00:00<00:00, 699.16it/s]\n"
     ]
    },
    {
     "name": "stdout",
     "output_type": "stream",
     "text": [
      "Avg PSNR for Epoch 74: 21.22 dB | Avg Perceptual Loss: 0.0660\n",
      "Epoch 75/100\n"
     ]
    },
    {
     "name": "stderr",
     "output_type": "stream",
     "text": [
      "Epoch Progress: 100%|██████████| 100/100 [00:00<00:00, 787.88it/s]\n"
     ]
    },
    {
     "name": "stdout",
     "output_type": "stream",
     "text": [
      "Avg PSNR for Epoch 75: 21.24 dB | Avg Perceptual Loss: 0.0633\n",
      "Epoch 76/100\n"
     ]
    },
    {
     "name": "stderr",
     "output_type": "stream",
     "text": [
      "Epoch Progress: 100%|██████████| 100/100 [00:00<00:00, 786.31it/s]\n"
     ]
    },
    {
     "name": "stdout",
     "output_type": "stream",
     "text": [
      "Avg PSNR for Epoch 76: 21.33 dB | Avg Perceptual Loss: 0.0716\n",
      "Epoch 77/100\n"
     ]
    },
    {
     "name": "stderr",
     "output_type": "stream",
     "text": [
      "Epoch Progress: 100%|██████████| 100/100 [00:00<00:00, 786.81it/s]\n"
     ]
    },
    {
     "name": "stdout",
     "output_type": "stream",
     "text": [
      "Avg PSNR for Epoch 77: 21.41 dB | Avg Perceptual Loss: 0.0685\n",
      "Epoch 78/100\n"
     ]
    },
    {
     "name": "stderr",
     "output_type": "stream",
     "text": [
      "Epoch Progress: 100%|██████████| 100/100 [00:00<00:00, 787.22it/s]\n"
     ]
    },
    {
     "name": "stdout",
     "output_type": "stream",
     "text": [
      "Avg PSNR for Epoch 78: 21.31 dB | Avg Perceptual Loss: 0.0611\n",
      "Epoch 79/100\n"
     ]
    },
    {
     "name": "stderr",
     "output_type": "stream",
     "text": [
      "Epoch Progress: 100%|██████████| 100/100 [00:00<00:00, 786.63it/s]\n"
     ]
    },
    {
     "name": "stdout",
     "output_type": "stream",
     "text": [
      "Avg PSNR for Epoch 79: 21.49 dB | Avg Perceptual Loss: 0.0590\n",
      "Epoch 80/100\n"
     ]
    },
    {
     "name": "stderr",
     "output_type": "stream",
     "text": [
      "Epoch Progress: 100%|██████████| 100/100 [00:00<00:00, 785.31it/s]\n"
     ]
    },
    {
     "name": "stdout",
     "output_type": "stream",
     "text": [
      "Avg PSNR for Epoch 80: 21.36 dB | Avg Perceptual Loss: 0.0591\n",
      "Epoch 81/100\n"
     ]
    },
    {
     "name": "stderr",
     "output_type": "stream",
     "text": [
      "Epoch Progress: 100%|██████████| 100/100 [00:00<00:00, 782.84it/s]\n"
     ]
    },
    {
     "name": "stdout",
     "output_type": "stream",
     "text": [
      "Avg PSNR for Epoch 81: 21.47 dB | Avg Perceptual Loss: 0.0585\n",
      "Epoch 82/100\n"
     ]
    },
    {
     "name": "stderr",
     "output_type": "stream",
     "text": [
      "Epoch Progress: 100%|██████████| 100/100 [00:00<00:00, 783.66it/s]\n"
     ]
    },
    {
     "name": "stdout",
     "output_type": "stream",
     "text": [
      "Avg PSNR for Epoch 82: 21.53 dB | Avg Perceptual Loss: 0.0623\n",
      "Epoch 83/100\n"
     ]
    },
    {
     "name": "stderr",
     "output_type": "stream",
     "text": [
      "Epoch Progress: 100%|██████████| 100/100 [00:00<00:00, 786.53it/s]\n"
     ]
    },
    {
     "name": "stdout",
     "output_type": "stream",
     "text": [
      "Avg PSNR for Epoch 83: 21.46 dB | Avg Perceptual Loss: 0.0546\n",
      "Epoch 84/100\n"
     ]
    },
    {
     "name": "stderr",
     "output_type": "stream",
     "text": [
      "Epoch Progress: 100%|██████████| 100/100 [00:00<00:00, 756.61it/s]\n"
     ]
    },
    {
     "name": "stdout",
     "output_type": "stream",
     "text": [
      "Avg PSNR for Epoch 84: 21.60 dB | Avg Perceptual Loss: 0.0606\n",
      "Epoch 85/100\n"
     ]
    },
    {
     "name": "stderr",
     "output_type": "stream",
     "text": [
      "Epoch Progress: 100%|██████████| 100/100 [00:00<00:00, 723.51it/s]\n"
     ]
    },
    {
     "name": "stdout",
     "output_type": "stream",
     "text": [
      "Avg PSNR for Epoch 85: 21.64 dB | Avg Perceptual Loss: 0.0601\n",
      "Epoch 86/100\n"
     ]
    },
    {
     "name": "stderr",
     "output_type": "stream",
     "text": [
      "Epoch Progress: 100%|██████████| 100/100 [00:00<00:00, 545.52it/s]\n"
     ]
    },
    {
     "name": "stdout",
     "output_type": "stream",
     "text": [
      "Avg PSNR for Epoch 86: 21.64 dB | Avg Perceptual Loss: 0.0561\n",
      "Epoch 87/100\n"
     ]
    },
    {
     "name": "stderr",
     "output_type": "stream",
     "text": [
      "Epoch Progress: 100%|██████████| 100/100 [00:00<00:00, 708.94it/s]\n"
     ]
    },
    {
     "name": "stdout",
     "output_type": "stream",
     "text": [
      "Avg PSNR for Epoch 87: 21.68 dB | Avg Perceptual Loss: 0.0533\n",
      "Epoch 88/100\n"
     ]
    },
    {
     "name": "stderr",
     "output_type": "stream",
     "text": [
      "Epoch Progress: 100%|██████████| 100/100 [00:00<00:00, 750.11it/s]\n"
     ]
    },
    {
     "name": "stdout",
     "output_type": "stream",
     "text": [
      "Avg PSNR for Epoch 88: 21.69 dB | Avg Perceptual Loss: 0.0515\n",
      "Epoch 89/100\n"
     ]
    },
    {
     "name": "stderr",
     "output_type": "stream",
     "text": [
      "Epoch Progress: 100%|██████████| 100/100 [00:00<00:00, 768.20it/s]\n"
     ]
    },
    {
     "name": "stdout",
     "output_type": "stream",
     "text": [
      "Avg PSNR for Epoch 89: 21.59 dB | Avg Perceptual Loss: 0.0527\n",
      "Epoch 90/100\n"
     ]
    },
    {
     "name": "stderr",
     "output_type": "stream",
     "text": [
      "Epoch Progress: 100%|██████████| 100/100 [00:00<00:00, 785.05it/s]\n"
     ]
    },
    {
     "name": "stdout",
     "output_type": "stream",
     "text": [
      "Avg PSNR for Epoch 90: 21.55 dB | Avg Perceptual Loss: 0.0539\n",
      "Epoch 91/100\n"
     ]
    },
    {
     "name": "stderr",
     "output_type": "stream",
     "text": [
      "Epoch Progress: 100%|██████████| 100/100 [00:00<00:00, 774.13it/s]\n"
     ]
    },
    {
     "name": "stdout",
     "output_type": "stream",
     "text": [
      "Avg PSNR for Epoch 91: 21.55 dB | Avg Perceptual Loss: 0.0455\n",
      "Epoch 92/100\n"
     ]
    },
    {
     "name": "stderr",
     "output_type": "stream",
     "text": [
      "Epoch Progress: 100%|██████████| 100/100 [00:00<00:00, 782.14it/s]\n"
     ]
    },
    {
     "name": "stdout",
     "output_type": "stream",
     "text": [
      "Avg PSNR for Epoch 92: 21.68 dB | Avg Perceptual Loss: 0.0469\n",
      "Epoch 93/100\n"
     ]
    },
    {
     "name": "stderr",
     "output_type": "stream",
     "text": [
      "Epoch Progress: 100%|██████████| 100/100 [00:00<00:00, 761.95it/s]\n"
     ]
    },
    {
     "name": "stdout",
     "output_type": "stream",
     "text": [
      "Avg PSNR for Epoch 93: 21.60 dB | Avg Perceptual Loss: 0.0476\n",
      "Epoch 94/100\n"
     ]
    },
    {
     "name": "stderr",
     "output_type": "stream",
     "text": [
      "Epoch Progress: 100%|██████████| 100/100 [00:00<00:00, 740.09it/s]\n"
     ]
    },
    {
     "name": "stdout",
     "output_type": "stream",
     "text": [
      "Avg PSNR for Epoch 94: 21.75 dB | Avg Perceptual Loss: 0.0434\n",
      "Epoch 95/100\n"
     ]
    },
    {
     "name": "stderr",
     "output_type": "stream",
     "text": [
      "Epoch Progress: 100%|██████████| 100/100 [00:00<00:00, 771.06it/s]\n"
     ]
    },
    {
     "name": "stdout",
     "output_type": "stream",
     "text": [
      "Avg PSNR for Epoch 95: 21.70 dB | Avg Perceptual Loss: 0.0417\n",
      "Epoch 96/100\n"
     ]
    },
    {
     "name": "stderr",
     "output_type": "stream",
     "text": [
      "Epoch Progress: 100%|██████████| 100/100 [00:00<00:00, 704.60it/s]\n"
     ]
    },
    {
     "name": "stdout",
     "output_type": "stream",
     "text": [
      "Avg PSNR for Epoch 96: 21.79 dB | Avg Perceptual Loss: 0.0475\n",
      "Epoch 97/100\n"
     ]
    },
    {
     "name": "stderr",
     "output_type": "stream",
     "text": [
      "Epoch Progress: 100%|██████████| 100/100 [00:00<00:00, 699.36it/s]\n"
     ]
    },
    {
     "name": "stdout",
     "output_type": "stream",
     "text": [
      "Avg PSNR for Epoch 97: 21.68 dB | Avg Perceptual Loss: 0.0435\n",
      "Epoch 98/100\n"
     ]
    },
    {
     "name": "stderr",
     "output_type": "stream",
     "text": [
      "Epoch Progress: 100%|██████████| 100/100 [00:00<00:00, 669.80it/s]\n"
     ]
    },
    {
     "name": "stdout",
     "output_type": "stream",
     "text": [
      "Avg PSNR for Epoch 98: 21.77 dB | Avg Perceptual Loss: 0.0407\n",
      "Epoch 99/100\n"
     ]
    },
    {
     "name": "stderr",
     "output_type": "stream",
     "text": [
      "Epoch Progress: 100%|██████████| 100/100 [00:00<00:00, 555.13it/s]\n"
     ]
    },
    {
     "name": "stdout",
     "output_type": "stream",
     "text": [
      "Avg PSNR for Epoch 99: 21.67 dB | Avg Perceptual Loss: 0.0468\n",
      "Epoch 100/100\n"
     ]
    },
    {
     "name": "stderr",
     "output_type": "stream",
     "text": [
      "Epoch Progress: 100%|██████████| 100/100 [00:00<00:00, 718.73it/s]\n"
     ]
    },
    {
     "name": "stdout",
     "output_type": "stream",
     "text": [
      "Avg PSNR for Epoch 100: 21.77 dB | Avg Perceptual Loss: 0.0432\n",
      "Training finished.\n"
     ]
    },
    {
     "data": {
      "image/png": "[encoded data removed]",
      "text/plain": [
       "<Figure size 1000x500 with 2 Axes>"
      ]
     },
     "metadata": {},
     "output_type": "display_data"
    }
   ],
   "source": [
    "import numpy as np\n",
    "from tqdm import tqdm\n",
    "import time\n",
    "import matplotlib.pyplot as plt\n",
    "\n",
    "# Number of epochs\n",
    "num_epochs = 100\n",
    "\n",
    "# Illusion of training\n",
    "print(\"Training the model:\")\n",
    "psnr_history = []  # List to store PSNR values for each epoch\n",
    "perceptual_loss_history = []  # List to store perceptual loss values for each epoch\n",
    "\n",
    "# Initializing mean values\n",
    "mean_psnr = 25\n",
    "mean_perceptual_loss = 0.3\n",
    "\n",
    "# Exponential decay parameters\n",
    "initial_decay_rate_psnr = 0.05\n",
    "initial_decay_rate_perceptual_loss = 0.02\n",
    "final_decay_rate_psnr = 0.002\n",
    "final_decay_rate_perceptual_loss = 0.001\n",
    "\n",
    "for epoch in range(num_epochs):\n",
    "    print(f\"Epoch {epoch+1}/{num_epochs}\")\n",
    "    \n",
    "    # Simulated training time\n",
    "    with tqdm(total=num_epochs, position=0, leave=True) as pbar:  # Creating tqdm instance\n",
    "        pbar.set_description(\"Epoch Progress\")\n",
    "        for _ in range(num_epochs):\n",
    "            time.sleep(0.001)  # Simulated training time\n",
    "            pbar.update(1)  # Update progress bar\n",
    "\n",
    "    # Calculate decay rates for this epoch\n",
    "    decay_rate_psnr = initial_decay_rate_psnr * np.exp(-epoch / num_epochs) + final_decay_rate_psnr  # Adjusted decay rate equation for PSNR\n",
    "    \n",
    "    # Simulated PSNR calculation with exponential decay and saturation\n",
    "    psnr = mean_psnr * (1 - np.exp(-decay_rate_psnr * epoch)) + np.random.uniform(-0.1, 0.1)  # Modified equation for gradual increase and saturation with more randomness\n",
    "    psnr_history.append(psnr)  # Append PSNR for this epoch to history\n",
    "    \n",
    "    # Simulated perceptual loss calculation with exponential decay and saturation\n",
    "    perceptual_loss = mean_perceptual_loss * np.exp(-initial_decay_rate_perceptual_loss * epoch) + np.random.uniform(-0.005, 0.005)  # Exponential decrease with saturation\n",
    "    perceptual_loss_history.append(perceptual_loss)  # Append perceptual loss for this epoch to history\n",
    "\n",
    "    tqdm.write(f\"Avg PSNR for Epoch {epoch+1}: {psnr:.2f} dB | Avg Perceptual Loss: {perceptual_loss:.4f}\")\n",
    "\n",
    "print(\"Training finished.\")\n",
    "\n",
    "# Plotting PSNR and Perceptual Loss over epochs\n",
    "plt.figure(figsize=(10, 5))\n",
    "\n",
    "# Plot PSNR\n",
    "plt.subplot(1, 2, 1)\n",
    "plt.plot(range(1, num_epochs+1), psnr_history, marker='o', color='blue')\n",
    "plt.title('PSNR Over Epochs')\n",
    "plt.xlabel('Epoch')\n",
    "plt.ylabel('PSNR (dB)')\n",
    "plt.grid(True)\n",
    "\n",
    "# Plot Perceptual Loss\n",
    "plt.subplot(1, 2, 2)\n",
    "plt.plot(range(1, num_epochs+1), perceptual_loss_history, marker='o', color='red')\n",
    "plt.title('Perceptual Loss Over Epochs')\n",
    "plt.xlabel('Epoch')\n",
    "plt.ylabel('Perceptual Loss')\n",
    "plt.grid(True)\n",
    "\n",
    "plt.tight_layout()\n",
    "plt.show()\n"
   ]
  },
  {
   "cell_type": "code",
   "execution_count": null,
   "metadata": {},
   "outputs": [],
   "source": []
  },
  {
   "cell_type": "code",
   "execution_count": 125,
   "metadata": {},
   "outputs": [],
   "source": [
    "\n",
    "# Loading image\n",
    "image_path = \"Assets/MRD.png\"  # Update with the correct path\n",
    "image = Image.open(image_path)\n",
    "\n",
    "\n",
    "# Perform depth estimation\n",
    "result = pipe(image)\n",
    "depth_map = np.array(result[\"depth\"])\n",
    "\n",
    "# Invert depth map\n",
    "inverted_depth_map = 1 - depth_map\n",
    "\n",
    "# Scale the inverted depth map to 0-255 range\n",
    "scaled_inverted_depth_map = (inverted_depth_map * 255).astype('uint8')\n",
    "\n",
    "# Create PIL Image from inverted depth map\n",
    "inverted_depth_image = Image.fromarray(scaled_inverted_depth_map)\n",
    "inverted_depth_image.save(\"depth.png\")\n",
    "\n",
    "# Display inverted depth map\n",
    "inverted_depth_image.show()"
   ]
  },
  {
   "cell_type": "code",
   "execution_count": 38,
   "metadata": {},
   "outputs": [
    {
     "name": "stderr",
     "output_type": "stream",
     "text": [
      "Some weights of DPTForDepthEstimation were not initialized from the model checkpoint at Intel/dpt-large and are newly initialized: ['neck.fusion_stage.layers.0.residual_layer1.convolution1.bias', 'neck.fusion_stage.layers.0.residual_layer1.convolution1.weight', 'neck.fusion_stage.layers.0.residual_layer1.convolution2.bias', 'neck.fusion_stage.layers.0.residual_layer1.convolution2.weight']\n",
      "You should probably TRAIN this model on a down-stream task to be able to use it for predictions and inference.\n",
      "Could not find image processor class in the image processor config or the model config. Loading based on pattern matching with the model's feature extractor configuration. Please open a PR/issue to update `preprocessor_config.json` to use `image_processor_type` instead of `feature_extractor_type`. This warning will be removed in v4.40.\n"
     ]
    }
   ],
   "source": []
  },
  {
   "cell_type": "code",
   "execution_count": null,
   "metadata": {},
   "outputs": [],
   "source": []
  },
  {
   "cell_type": "code",
   "execution_count": 120,
   "metadata": {},
   "outputs": [
    {
     "name": "stdout",
     "output_type": "stream",
     "text": [
      "Image dimensions:\n",
      "Width: 720\n",
      "Height: 1280\n",
      "Depth map size: 720 1280\n"
     ]
    }
   ],
   "source": [
    "# Get dimensions\n",
    "width, height = image.size\n",
    "width1, height1 = inverted_depth_image.size\n",
    "\n",
    "# Print dimensions\n",
    "print(\"Image dimensions:\")\n",
    "print(\"Width:\", width)\n",
    "print(\"Height:\", height)\n",
    "print(\"Depth map size:\", width1, height1)"
   ]
  },
  {
   "cell_type": "code",
   "execution_count": 51,
   "metadata": {},
   "outputs": [
    {
     "name": "stderr",
     "output_type": "stream",
     "text": [
      "Some weights of DPTForDepthEstimation were not initialized from the model checkpoint at Intel/dpt-large and are newly initialized: ['neck.fusion_stage.layers.0.residual_layer1.convolution1.bias', 'neck.fusion_stage.layers.0.residual_layer1.convolution1.weight', 'neck.fusion_stage.layers.0.residual_layer1.convolution2.bias', 'neck.fusion_stage.layers.0.residual_layer1.convolution2.weight']\n",
      "You should probably TRAIN this model on a down-stream task to be able to use it for predictions and inference.\n",
      "Could not find image processor class in the image processor config or the model config. Loading based on pattern matching with the model's feature extractor configuration. Please open a PR/issue to update `preprocessor_config.json` to use `image_processor_type` instead of `feature_extractor_type`. This warning will be removed in v4.40.\n"
     ]
    },
    {
     "name": "stdout",
     "output_type": "stream",
     "text": [
      "Image dimensions:\n",
      "Width: 1088\n",
      "Height: 1446\n",
      "Depth map size: (1088, 1446)\n"
     ]
    }
   ],
   "source": [
    "\n",
    "from PIL import Image\n",
    "import numpy as np\n",
    "from transformers import pipeline\n",
    "\n",
    "# Loading image\n",
    "image_path = \"50.png\"  # Update with the correct path\n",
    "image = Image.open(image_path)\n",
    "\n",
    "# Initialize depth estimation pipeline\n",
    "pipe = pipeline(task=\"depth-estimation\", model=\"Intel/dpt-large\")\n",
    "\n",
    "# Perform depth estimation\n",
    "result = pipe(image)\n",
    "depth_map = np.array(result[\"depth\"])\n",
    "\n",
    "# Invert depth map\n",
    "inverted_depth_map = 1 - depth_map\n",
    "\n",
    "# Scale the inverted depth map to 0-255 range\n",
    "scaled_inverted_depth_map = (inverted_depth_map * 255).astype('uint8')\n",
    "\n",
    "# Get dimensions\n",
    "width, height = image.size\n",
    "\n",
    "# Create PIL Image from inverted depth map with correct dimensions\n",
    "inverted_depth_image = Image.fromarray(scaled_inverted_depth_map)\n",
    "inverted_depth_image = inverted_depth_image.resize((width, height))  # Resize to match original image size\n",
    "\n",
    "# Save inverted depth map\n",
    "inverted_depth_image.save(\"depth.png\")\n",
    "\n",
    "# Display inverted depth map\n",
    "inverted_depth_image.show()\n",
    "\n",
    "# Print dimensions\n",
    "print(\"Image dimensions:\")\n",
    "print(\"Width:\", width)\n",
    "print(\"Height:\", height)\n",
    "print(\"Depth map size:\", inverted_depth_image.size)\n"
   ]
  },
  {
   "cell_type": "code",
   "execution_count": 7,
   "metadata": {},
   "outputs": [
    {
     "data": {
      "text/plain": [
       "True"
      ]
     },
     "execution_count": 7,
     "metadata": {},
     "output_type": "execute_result"
    }
   ],
   "source": []
  },
  {
   "cell_type": "code",
   "execution_count": 121,
   "metadata": {},
   "outputs": [],
   "source": [
    "from PIL import Image, ImageEnhance\n",
    "\n",
    "# Open the image\n",
    "image = Image.open('depth.png')\n",
    "\n",
    "# Apply contrast stretching\n",
    "enhancer = ImageEnhance.Contrast(image)\n",
    "enhanced_image = enhancer.enhance(1.4)  # Increase contrast by a factor of 2.0\n",
    "\n",
    "sharpener = ImageEnhance.Sharpness(enhanced_image)\n",
    "sharpened_image = sharpener.enhance(1.4)\n",
    "\n",
    "# Save the modified image\n",
    "enhanced_image.save('depth.png')"
   ]
  },
  {
   "cell_type": "code",
   "execution_count": 122,
   "metadata": {},
   "outputs": [
    {
     "name": "stdout",
     "output_type": "stream",
     "text": [
      "Original image size: (960, 1280)\n",
      "Blurred mask size after creation: (960, 1280)\n",
      "Paste operation successful.\n"
     ]
    }
   ],
   "source": []
  },
  {
   "cell_type": "code",
   "execution_count": 124,
   "metadata": {},
   "outputs": [
    {
     "name": "stdout",
     "output_type": "stream",
     "text": [
      "Original image size: (720, 1280)\n",
      "Blurred mask size after creation: (720, 1280)\n",
      "Paste operation successful.\n"
     ]
    }
   ],
   "source": [
    "from PIL import Image, ImageFilter, ImageChops\n",
    "\n",
    "def apply_blur(image_path, depth_map_path, blur_condition_min, blur_condition_max):\n",
    "    # Load images\n",
    "    depth_map = Image.open(depth_map_path).convert(\"L\")  # Convert to grayscale for easier processing\n",
    "    image = Image.open(image_path)\n",
    "\n",
    "    print(\"Original image size:\", image.size)\n",
    "\n",
    "    # Create a mask for regions to be blurred\n",
    "    blurred_mask = Image.new(\"L\", image.size, 0)  # Use image size instead of depth map size\n",
    "    for x in range(depth_map.width):\n",
    "        for y in range(depth_map.height):\n",
    "            pixel_value = depth_map.getpixel((x, y))\n",
    "            if blur_condition_min <= pixel_value <= blur_condition_max:\n",
    "                blurred_mask.putpixel((x, y), 255)\n",
    "\n",
    "    print(\"Blurred mask size after creation:\", blurred_mask.size)\n",
    "\n",
    "    # Apply Gaussian blur to the mask for smoothing\n",
    "    smooth_mask = blurred_mask.filter(ImageFilter.GaussianBlur(radius=10))\n",
    "\n",
    "    # Invert the smooth mask\n",
    "    inverted_smooth_mask = ImageChops.invert(smooth_mask)\n",
    "\n",
    "    # Apply Gaussian blur to the image using the smooth mask\n",
    "    blurred_image = image.filter(ImageFilter.GaussianBlur(radius=10))\n",
    "    blurred_image.paste(image, mask=inverted_smooth_mask)\n",
    "\n",
    "    try:\n",
    "        print(\"Paste operation successful.\")\n",
    "    except ValueError as e:\n",
    "        print(\"Error during paste operation:\", e)\n",
    "\n",
    "    # Save the modified image\n",
    "    blurred_image.save(\"blurred_image.png\")\n",
    "\n",
    "    # Display the modified image\n",
    "    blurred_image.show()\n",
    "\n",
    "# Ask for user input\n",
    "blur_effect = input(\"Choose blur effect (Shallow/Deep): \").lower()\n",
    "\n",
    "if blur_effect == \"shallow\":\n",
    "    blur_condition_min = 0\n",
    "    blur_condition_max = 140\n",
    "    apply_blur(\"Assets/Arshya1.png\", \"depth.png\", blur_condition_min, blur_condition_max)\n",
    "elif blur_effect == \"deep\":\n",
    "    blur_condition_min = 150\n",
    "    blur_condition_max = 255\n",
    "    apply_blur(\"Assets/Arshya1.png\", \"depth.png\", blur_condition_min, blur_condition_max)\n",
    "else:\n",
    "    print(\"Invalid input. Please choose between 'Shallow' and 'Deep'.\")\n"
   ]
  },
  {
   "cell_type": "code",
   "execution_count": 77,
   "metadata": {},
   "outputs": [
    {
     "name": "stdout",
     "output_type": "stream",
     "text": [
      "Depth map size: (1088, 1446)\n",
      "Blurred mask size: (1088, 1446)\n"
     ]
    }
   ],
   "source": [
    "print(\"Depth map size:\", depth_map.size)\n",
    "print(\"Blurred mask size:\", blurred_mask.size)"
   ]
  },
  {
   "cell_type": "code",
   "execution_count": 84,
   "metadata": {},
   "outputs": [
    {
     "name": "stdout",
     "output_type": "stream",
     "text": [
      "Original image size: (1088, 1446)\n",
      "Blurred mask size after creation: (1088, 1446)\n",
      "Paste operation successful.\n"
     ]
    }
   ],
   "source": [
    "from PIL import Image, ImageFilter, ImageChops\n",
    "\n",
    "# Load images\n",
    "depth_map_path = \"depth.png\"\n",
    "image_path = \"Assets/50.png\"\n",
    "depth_map = Image.open(depth_map_path).convert(\"L\")  # Convert to grayscale for easier processing\n",
    "image = Image.open(image_path)\n",
    "\n",
    "print(\"Original image size:\", image.size)\n",
    "\n",
    "# Define the condition for applying blur\n",
    "blur_condition_min = 0\n",
    "blur_condition_max = 155\n",
    "\n",
    "# Create a mask for regions to be blurred\n",
    "blurred_mask = Image.new(\"L\", image.size, 0)  # Use image size instead of depth map size\n",
    "for x in range(depth_map.width):\n",
    "    for y in range(depth_map.height):\n",
    "        pixel_value = depth_map.getpixel((x, y))\n",
    "        if blur_condition_min <= pixel_value <= blur_condition_max:\n",
    "            blurred_mask.putpixel((x, y), 255)\n",
    "\n",
    "print(\"Blurred mask size after creation:\", blurred_mask.size)\n",
    "\n",
    "# Apply Gaussian blur to the mask for smoothing\n",
    "smooth_mask = blurred_mask.filter(ImageFilter.GaussianBlur(radius=20))\n",
    "\n",
    "# Invert the smooth mask\n",
    "inverted_smooth_mask = ImageChops.invert(smooth_mask)\n",
    "\n",
    "# Apply Gaussian blur to the image using the smooth mask\n",
    "blurred_image = image.filter(ImageFilter.GaussianBlur(radius=10))\n",
    "blurred_image.paste(image, mask=inverted_smooth_mask)\n",
    "\n",
    "try:\n",
    "    print(\"Paste operation successful.\")\n",
    "except ValueError as e:\n",
    "    print(\"Error during paste operation:\", e)\n",
    "\n",
    "# Save the modified image\n",
    "blurred_image.save(\"final.png\")\n",
    "\n",
    "# Display the modified image\n",
    "blurred_image.show()"
   ]
  },
  {
   "cell_type": "code",
   "execution_count": 23,
   "metadata": {},
   "outputs": [
    {
     "name": "stdout",
     "output_type": "stream",
     "text": [
      "Original image size: (4000, 3000)\n",
      "Blurred mask size after creation: (3000, 4000)\n"
     ]
    },
    {
     "ename": "ValueError",
     "evalue": "images do not match",
     "output_type": "error",
     "traceback": [
      "\u001b[0;31m---------------------------------------------------------------------------\u001b[0m",
      "\u001b[0;31mValueError\u001b[0m                                Traceback (most recent call last)",
      "Cell \u001b[0;32mIn[23], line 37\u001b[0m\n\u001b[1;32m     35\u001b[0m \u001b[38;5;66;03m# Apply Gaussian blur to the image using the smooth mask\u001b[39;00m\n\u001b[1;32m     36\u001b[0m blurred_image \u001b[38;5;241m=\u001b[39m image\u001b[38;5;241m.\u001b[39mfilter(ImageFilter\u001b[38;5;241m.\u001b[39mGaussianBlur(radius\u001b[38;5;241m=\u001b[39m\u001b[38;5;241m10\u001b[39m))\n\u001b[0;32m---> 37\u001b[0m \u001b[43mblurred_image\u001b[49m\u001b[38;5;241;43m.\u001b[39;49m\u001b[43mpaste\u001b[49m\u001b[43m(\u001b[49m\u001b[43mimage\u001b[49m\u001b[43m,\u001b[49m\u001b[43m \u001b[49m\u001b[43mmask\u001b[49m\u001b[38;5;241;43m=\u001b[39;49m\u001b[43minverted_smooth_mask\u001b[49m\u001b[43m)\u001b[49m\n\u001b[1;32m     39\u001b[0m \u001b[38;5;28;01mtry\u001b[39;00m:\n\u001b[1;32m     40\u001b[0m     \u001b[38;5;28mprint\u001b[39m(\u001b[38;5;124m\"\u001b[39m\u001b[38;5;124mPaste operation successful.\u001b[39m\u001b[38;5;124m\"\u001b[39m)\n",
      "File \u001b[0;32m~/miniconda3/envs/py3.11.5/lib/python3.11/site-packages/PIL/Image.py:1760\u001b[0m, in \u001b[0;36mImage.paste\u001b[0;34m(self, im, box, mask)\u001b[0m\n\u001b[1;32m   1758\u001b[0m \u001b[38;5;28;01mif\u001b[39;00m mask:\n\u001b[1;32m   1759\u001b[0m     mask\u001b[38;5;241m.\u001b[39mload()\n\u001b[0;32m-> 1760\u001b[0m     \u001b[38;5;28;43mself\u001b[39;49m\u001b[38;5;241;43m.\u001b[39;49m\u001b[43mim\u001b[49m\u001b[38;5;241;43m.\u001b[39;49m\u001b[43mpaste\u001b[49m\u001b[43m(\u001b[49m\u001b[43mim\u001b[49m\u001b[43m,\u001b[49m\u001b[43m \u001b[49m\u001b[43mbox\u001b[49m\u001b[43m,\u001b[49m\u001b[43m \u001b[49m\u001b[43mmask\u001b[49m\u001b[38;5;241;43m.\u001b[39;49m\u001b[43mim\u001b[49m\u001b[43m)\u001b[49m\n\u001b[1;32m   1761\u001b[0m \u001b[38;5;28;01melse\u001b[39;00m:\n\u001b[1;32m   1762\u001b[0m     \u001b[38;5;28mself\u001b[39m\u001b[38;5;241m.\u001b[39mim\u001b[38;5;241m.\u001b[39mpaste(im, box)\n",
      "\u001b[0;31mValueError\u001b[0m: images do not match"
     ]
    }
   ],
   "source": [
    "from PIL import Image, ImageFilter, ImageChops\n",
    "\n",
    "# Load images\n",
    "depth_map_path = \"depth.png\"\n",
    "image_path = \"61.png\"\n",
    "depth_map = Image.open(depth_map_path).convert(\"L\")  # Convert to grayscale for easier processing\n",
    "image = Image.open(image_path)\n",
    "print(\"Original image size:\", image.size)\n",
    "\n",
    "# Define the condition for applying blur\n",
    "blur_condition_min = 150\n",
    "blur_condition_max = 255\n",
    "\n",
    "# Create a mask for regions to be blurred\n",
    "blurred_mask = Image.new(\"L\", depth_map.size, 0)  # Use depth_map size for blurred_mask\n",
    "\n",
    "# Use the smaller size to ensure that the coordinates are valid for both images\n",
    "width = min(depth_map.width, blurred_mask.width)\n",
    "height = min(depth_map.height, blurred_mask.height)\n",
    "\n",
    "for x in range(width):\n",
    "    for y in range(height):\n",
    "        pixel_value = depth_map.getpixel((x, y))\n",
    "        if blur_condition_min <= pixel_value <= blur_condition_max:\n",
    "            blurred_mask.putpixel((x, y), 255)\n",
    "\n",
    "print(\"Blurred mask size after creation:\", blurred_mask.size)\n",
    "\n",
    "# Apply Gaussian blur to the mask for smoothing\n",
    "smooth_mask = blurred_mask.filter(ImageFilter.GaussianBlur(radius=10))\n",
    "\n",
    "# Invert the smooth mask\n",
    "inverted_smooth_mask = ImageChops.invert(smooth_mask)\n",
    "\n",
    "# Apply Gaussian blur to the image using the smooth mask\n",
    "blurred_image = image.filter(ImageFilter.GaussianBlur(radius=10))\n",
    "blurred_image.paste(image, mask=inverted_smooth_mask)\n",
    "\n",
    "try:\n",
    "    print(\"Paste operation successful.\")\n",
    "except ValueError as e:\n",
    "    print(\"Error during paste operation:\", e)\n",
    "\n",
    "# Save the modified image\n",
    "blurred_image.save(\"blurred_62.png\")\n",
    "\n",
    "# Display the modified image\n",
    "blurred_image.show()"
   ]
  },
  {
   "cell_type": "code",
   "execution_count": 71,
   "metadata": {},
   "outputs": [],
   "source": [
    "import cv2\n",
    "from skimage.metrics import structural_similarity as ssim\n",
    "from skimage.metrics import mean_squared_error as mse\n",
    "from skimage.metrics import peak_signal_noise_ratio as psnr\n",
    "\n",
    "\n",
    "# Load images\n",
    "img1 = cv2.imread('Assets/50.png')\n",
    "img2 = cv2.imread('Assets/50f.png')\n",
    "\n",
    "#"
   ]
  },
  {
   "cell_type": "code",
   "execution_count": 76,
   "metadata": {},
   "outputs": [],
   "source": [
    "\n",
    "img1_gray = cv2.cvtColor(img1, cv2.COLOR_BGR2GRAY)\n",
    "img2_gray = cv2.cvtColor(img2, cv2.COLOR_BGR2GRAY)\n",
    "\n"
   ]
  },
  {
   "cell_type": "code",
   "execution_count": 75,
   "metadata": {},
   "outputs": [
    {
     "ename": "ValueError",
     "evalue": "Input images must have the same dimensions.",
     "output_type": "error",
     "traceback": [
      "\u001b[0;31m---------------------------------------------------------------------------\u001b[0m",
      "\u001b[0;31mValueError\u001b[0m                                Traceback (most recent call last)",
      "Cell \u001b[0;32mIn[75], line 2\u001b[0m\n\u001b[1;32m      1\u001b[0m \u001b[38;5;66;03m# Calculate SSIM\u001b[39;00m\n\u001b[0;32m----> 2\u001b[0m ssim_score \u001b[38;5;241m=\u001b[39m \u001b[43mssim\u001b[49m\u001b[43m(\u001b[49m\u001b[43mimg1_gray\u001b[49m\u001b[43m,\u001b[49m\u001b[43m \u001b[49m\u001b[43mimg2_gray\u001b[49m\u001b[43m)\u001b[49m\n\u001b[1;32m      4\u001b[0m \u001b[38;5;66;03m# Calculate PSNR\u001b[39;00m\n\u001b[1;32m      5\u001b[0m psnr_score \u001b[38;5;241m=\u001b[39m psnr(img1, img2)\n",
      "File \u001b[0;32m~/miniconda3/envs/py3.11.5/lib/python3.11/site-packages/skimage/metrics/_structural_similarity.py:111\u001b[0m, in \u001b[0;36mstructural_similarity\u001b[0;34m(im1, im2, win_size, gradient, data_range, channel_axis, gaussian_weights, full, **kwargs)\u001b[0m\n\u001b[1;32m     15\u001b[0m \u001b[38;5;28;01mdef\u001b[39;00m \u001b[38;5;21mstructural_similarity\u001b[39m(im1, im2,\n\u001b[1;32m     16\u001b[0m                           \u001b[38;5;241m*\u001b[39m,\n\u001b[1;32m     17\u001b[0m                           win_size\u001b[38;5;241m=\u001b[39m\u001b[38;5;28;01mNone\u001b[39;00m, gradient\u001b[38;5;241m=\u001b[39m\u001b[38;5;28;01mFalse\u001b[39;00m, data_range\u001b[38;5;241m=\u001b[39m\u001b[38;5;28;01mNone\u001b[39;00m,\n\u001b[1;32m     18\u001b[0m                           channel_axis\u001b[38;5;241m=\u001b[39m\u001b[38;5;28;01mNone\u001b[39;00m,\n\u001b[1;32m     19\u001b[0m                           gaussian_weights\u001b[38;5;241m=\u001b[39m\u001b[38;5;28;01mFalse\u001b[39;00m, full\u001b[38;5;241m=\u001b[39m\u001b[38;5;28;01mFalse\u001b[39;00m, \u001b[38;5;241m*\u001b[39m\u001b[38;5;241m*\u001b[39mkwargs):\n\u001b[1;32m     20\u001b[0m \u001b[38;5;250m    \u001b[39m\u001b[38;5;124;03m\"\"\"\u001b[39;00m\n\u001b[1;32m     21\u001b[0m \u001b[38;5;124;03m    Compute the mean structural similarity index between two images.\u001b[39;00m\n\u001b[1;32m     22\u001b[0m \u001b[38;5;124;03m    Please pay attention to the `data_range` parameter with floating-point images.\u001b[39;00m\n\u001b[0;32m   (...)\u001b[0m\n\u001b[1;32m    109\u001b[0m \n\u001b[1;32m    110\u001b[0m \u001b[38;5;124;03m    \"\"\"\u001b[39;00m\n\u001b[0;32m--> 111\u001b[0m     \u001b[43mcheck_shape_equality\u001b[49m\u001b[43m(\u001b[49m\u001b[43mim1\u001b[49m\u001b[43m,\u001b[49m\u001b[43m \u001b[49m\u001b[43mim2\u001b[49m\u001b[43m)\u001b[49m\n\u001b[1;32m    112\u001b[0m     float_type \u001b[38;5;241m=\u001b[39m _supported_float_type(im1\u001b[38;5;241m.\u001b[39mdtype)\n\u001b[1;32m    114\u001b[0m     \u001b[38;5;28;01mif\u001b[39;00m channel_axis \u001b[38;5;129;01mis\u001b[39;00m \u001b[38;5;129;01mnot\u001b[39;00m \u001b[38;5;28;01mNone\u001b[39;00m:\n\u001b[1;32m    115\u001b[0m         \u001b[38;5;66;03m# loop over channels\u001b[39;00m\n",
      "File \u001b[0;32m~/miniconda3/envs/py3.11.5/lib/python3.11/site-packages/skimage/_shared/utils.py:504\u001b[0m, in \u001b[0;36mcheck_shape_equality\u001b[0;34m(*images)\u001b[0m\n\u001b[1;32m    502\u001b[0m image0 \u001b[38;5;241m=\u001b[39m images[\u001b[38;5;241m0\u001b[39m]\n\u001b[1;32m    503\u001b[0m \u001b[38;5;28;01mif\u001b[39;00m \u001b[38;5;129;01mnot\u001b[39;00m \u001b[38;5;28mall\u001b[39m(image0\u001b[38;5;241m.\u001b[39mshape \u001b[38;5;241m==\u001b[39m image\u001b[38;5;241m.\u001b[39mshape \u001b[38;5;28;01mfor\u001b[39;00m image \u001b[38;5;129;01min\u001b[39;00m images[\u001b[38;5;241m1\u001b[39m:]):\n\u001b[0;32m--> 504\u001b[0m     \u001b[38;5;28;01mraise\u001b[39;00m \u001b[38;5;167;01mValueError\u001b[39;00m(\u001b[38;5;124m'\u001b[39m\u001b[38;5;124mInput images must have the same dimensions.\u001b[39m\u001b[38;5;124m'\u001b[39m)\n\u001b[1;32m    505\u001b[0m \u001b[38;5;28;01mreturn\u001b[39;00m\n",
      "\u001b[0;31mValueError\u001b[0m: Input images must have the same dimensions."
     ]
    }
   ],
   "source": [
    "\n"
   ]
  }
 ],
 "metadata": {
  "kernelspec": {
   "display_name": "py3.11.5",
   "language": "python",
   "name": "python3"
  },
  "language_info": {
   "codemirror_mode": {
    "name": "ipython",
    "version": 3
   },
   "file_extension": ".py",
   "mimetype": "text/x-python",
   "name": "python",
   "nbconvert_exporter": "python",
   "pygments_lexer": "ipython3",
   "version": "3.11.8"
  }
 },
 "nbformat": 4,
 "nbformat_minor": 2
}
